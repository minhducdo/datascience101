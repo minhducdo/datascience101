{
 "cells": [
  {
   "cell_type": "code",
   "execution_count": 63,
   "metadata": {},
   "outputs": [],
   "source": [
    "import pandas as pd\n",
    "import matplotlib.cm as cm\n",
    "import matplotlib.colors as col\n",
    "import numpy as np\n",
    "import matplotlib.pyplot as plt\n",
    "import seaborn as sns"
   ]
  },
  {
   "cell_type": "code",
   "execution_count": 1,
   "metadata": {},
   "outputs": [
    {
     "data": {
      "text/html": [
       "<div>\n",
       "<style scoped>\n",
       "    .dataframe tbody tr th:only-of-type {\n",
       "        vertical-align: middle;\n",
       "    }\n",
       "\n",
       "    .dataframe tbody tr th {\n",
       "        vertical-align: top;\n",
       "    }\n",
       "\n",
       "    .dataframe thead th {\n",
       "        text-align: right;\n",
       "    }\n",
       "</style>\n",
       "<table border=\"1\" class=\"dataframe\">\n",
       "  <thead>\n",
       "    <tr style=\"text-align: right;\">\n",
       "      <th></th>\n",
       "      <th>mlsno</th>\n",
       "      <th>status</th>\n",
       "      <th>stno</th>\n",
       "      <th>stname</th>\n",
       "      <th>sttype</th>\n",
       "      <th>city</th>\n",
       "      <th>city_number</th>\n",
       "      <th>area</th>\n",
       "      <th>askprice</th>\n",
       "      <th>inputdate</th>\n",
       "      <th>...</th>\n",
       "      <th>type_number</th>\n",
       "      <th>style</th>\n",
       "      <th>bdrm</th>\n",
       "      <th>wshrm</th>\n",
       "      <th>latitude</th>\n",
       "      <th>longitude</th>\n",
       "      <th>house_condo</th>\n",
       "      <th>maint</th>\n",
       "      <th>aptno</th>\n",
       "      <th>address</th>\n",
       "    </tr>\n",
       "  </thead>\n",
       "  <tbody>\n",
       "    <tr>\n",
       "      <th>0</th>\n",
       "      <td>C3320792</td>\n",
       "      <td>Sld</td>\n",
       "      <td>386</td>\n",
       "      <td>Eglinton</td>\n",
       "      <td>Ave</td>\n",
       "      <td>Toronto C10</td>\n",
       "      <td>23</td>\n",
       "      <td>Mount Pleasant East</td>\n",
       "      <td>615000</td>\n",
       "      <td>20/09/2015</td>\n",
       "      <td>...</td>\n",
       "      <td>8</td>\n",
       "      <td>Other</td>\n",
       "      <td>0</td>\n",
       "      <td>0</td>\n",
       "      <td>43.709510</td>\n",
       "      <td>-79.386210</td>\n",
       "      <td>house</td>\n",
       "      <td>NaN</td>\n",
       "      <td>NaN</td>\n",
       "      <td>386 Eglinton Ave, Toronto</td>\n",
       "    </tr>\n",
       "    <tr>\n",
       "      <th>1</th>\n",
       "      <td>C3683457</td>\n",
       "      <td>Sld</td>\n",
       "      <td>139</td>\n",
       "      <td>Christie</td>\n",
       "      <td>St</td>\n",
       "      <td>Toronto C02</td>\n",
       "      <td>36</td>\n",
       "      <td>Annex</td>\n",
       "      <td>499000</td>\n",
       "      <td>10/01/2017</td>\n",
       "      <td>...</td>\n",
       "      <td>1</td>\n",
       "      <td>Bungalow</td>\n",
       "      <td>2</td>\n",
       "      <td>1</td>\n",
       "      <td>43.667104</td>\n",
       "      <td>-79.419657</td>\n",
       "      <td>house</td>\n",
       "      <td>NaN</td>\n",
       "      <td>NaN</td>\n",
       "      <td>139 Christie St, Toronto</td>\n",
       "    </tr>\n",
       "    <tr>\n",
       "      <th>2</th>\n",
       "      <td>N3517852</td>\n",
       "      <td>Sld</td>\n",
       "      <td>200</td>\n",
       "      <td>Clark</td>\n",
       "      <td>Ave</td>\n",
       "      <td>Markham</td>\n",
       "      <td>2</td>\n",
       "      <td>Thornhill</td>\n",
       "      <td>699000</td>\n",
       "      <td>06/06/2016</td>\n",
       "      <td>...</td>\n",
       "      <td>1</td>\n",
       "      <td>Bungalow</td>\n",
       "      <td>1</td>\n",
       "      <td>1</td>\n",
       "      <td>43.811380</td>\n",
       "      <td>-79.404360</td>\n",
       "      <td>house</td>\n",
       "      <td>NaN</td>\n",
       "      <td>NaN</td>\n",
       "      <td>200 Clark Ave, Markham</td>\n",
       "    </tr>\n",
       "    <tr>\n",
       "      <th>3</th>\n",
       "      <td>C3686117</td>\n",
       "      <td>Sld</td>\n",
       "      <td>19</td>\n",
       "      <td>Addison</td>\n",
       "      <td>Cres</td>\n",
       "      <td>Toronto C13</td>\n",
       "      <td>54</td>\n",
       "      <td>Banbury-Don Mills</td>\n",
       "      <td>999000</td>\n",
       "      <td>15/01/2017</td>\n",
       "      <td>...</td>\n",
       "      <td>1</td>\n",
       "      <td>Bungalow</td>\n",
       "      <td>3</td>\n",
       "      <td>1</td>\n",
       "      <td>43.743602</td>\n",
       "      <td>-79.351473</td>\n",
       "      <td>house</td>\n",
       "      <td>NaN</td>\n",
       "      <td>NaN</td>\n",
       "      <td>19 Addison Cres, Toronto</td>\n",
       "    </tr>\n",
       "    <tr>\n",
       "      <th>4</th>\n",
       "      <td>C3697674</td>\n",
       "      <td>Sld</td>\n",
       "      <td>183</td>\n",
       "      <td>Bestview</td>\n",
       "      <td>Dr</td>\n",
       "      <td>Toronto C15</td>\n",
       "      <td>42</td>\n",
       "      <td>Bayview Woods-Steeles</td>\n",
       "      <td>988800</td>\n",
       "      <td>31/01/2017</td>\n",
       "      <td>...</td>\n",
       "      <td>1</td>\n",
       "      <td>2-Storey</td>\n",
       "      <td>4</td>\n",
       "      <td>4</td>\n",
       "      <td>43.805546</td>\n",
       "      <td>-79.383136</td>\n",
       "      <td>house</td>\n",
       "      <td>NaN</td>\n",
       "      <td>NaN</td>\n",
       "      <td>183 Bestview Dr, Toronto</td>\n",
       "    </tr>\n",
       "  </tbody>\n",
       "</table>\n",
       "<p>5 rows × 23 columns</p>\n",
       "</div>"
      ],
      "text/plain": [
       "      mlsno status stno    stname sttype         city  city_number  \\\n",
       "0  C3320792    Sld  386  Eglinton    Ave  Toronto C10           23   \n",
       "1  C3683457    Sld  139  Christie     St  Toronto C02           36   \n",
       "2  N3517852    Sld  200     Clark    Ave      Markham            2   \n",
       "3  C3686117    Sld   19   Addison   Cres  Toronto C13           54   \n",
       "4  C3697674    Sld  183  Bestview     Dr  Toronto C15           42   \n",
       "\n",
       "                    area  askprice   inputdate            ...              \\\n",
       "0    Mount Pleasant East    615000  20/09/2015            ...               \n",
       "1                  Annex    499000  10/01/2017            ...               \n",
       "2              Thornhill    699000  06/06/2016            ...               \n",
       "3      Banbury-Don Mills    999000  15/01/2017            ...               \n",
       "4  Bayview Woods-Steeles    988800  31/01/2017            ...               \n",
       "\n",
       "   type_number     style bdrm  wshrm   latitude  longitude  house_condo  \\\n",
       "0            8     Other    0      0  43.709510 -79.386210        house   \n",
       "1            1  Bungalow    2      1  43.667104 -79.419657        house   \n",
       "2            1  Bungalow    1      1  43.811380 -79.404360        house   \n",
       "3            1  Bungalow    3      1  43.743602 -79.351473        house   \n",
       "4            1  2-Storey    4      4  43.805546 -79.383136        house   \n",
       "\n",
       "   maint  aptno                    address  \n",
       "0    NaN    NaN  386 Eglinton Ave, Toronto  \n",
       "1    NaN    NaN   139 Christie St, Toronto  \n",
       "2    NaN    NaN     200 Clark Ave, Markham  \n",
       "3    NaN    NaN   19 Addison Cres, Toronto  \n",
       "4    NaN    NaN   183 Bestview Dr, Toronto  \n",
       "\n",
       "[5 rows x 23 columns]"
      ]
     },
     "execution_count": 1,
     "metadata": {},
     "output_type": "execute_result"
    }
   ],
   "source": [
    "unique_mls = 'unique_mls_db.csv'\n",
    "df = pd.read_csv(unique_mls, na_values='NULL')\n",
    "df.head(5)"
   ]
  },
  {
   "cell_type": "code",
   "execution_count": 2,
   "metadata": {},
   "outputs": [],
   "source": [
    "df.drop(df.columns[[0,1,4,20,21]], axis=1, inplace=True)"
   ]
  },
  {
   "cell_type": "code",
   "execution_count": 3,
   "metadata": {},
   "outputs": [
    {
     "data": {
      "text/html": [
       "<div>\n",
       "<style scoped>\n",
       "    .dataframe tbody tr th:only-of-type {\n",
       "        vertical-align: middle;\n",
       "    }\n",
       "\n",
       "    .dataframe tbody tr th {\n",
       "        vertical-align: top;\n",
       "    }\n",
       "\n",
       "    .dataframe thead th {\n",
       "        text-align: right;\n",
       "    }\n",
       "</style>\n",
       "<table border=\"1\" class=\"dataframe\">\n",
       "  <thead>\n",
       "    <tr style=\"text-align: right;\">\n",
       "      <th></th>\n",
       "      <th>stno</th>\n",
       "      <th>stname</th>\n",
       "      <th>city</th>\n",
       "      <th>city_number</th>\n",
       "      <th>area</th>\n",
       "      <th>askprice</th>\n",
       "      <th>inputdate</th>\n",
       "      <th>soldprice</th>\n",
       "      <th>solddate</th>\n",
       "      <th>type</th>\n",
       "      <th>type_number</th>\n",
       "      <th>style</th>\n",
       "      <th>bdrm</th>\n",
       "      <th>wshrm</th>\n",
       "      <th>latitude</th>\n",
       "      <th>longitude</th>\n",
       "      <th>house_condo</th>\n",
       "      <th>address</th>\n",
       "    </tr>\n",
       "  </thead>\n",
       "  <tbody>\n",
       "    <tr>\n",
       "      <th>0</th>\n",
       "      <td>386</td>\n",
       "      <td>Eglinton</td>\n",
       "      <td>Toronto C10</td>\n",
       "      <td>23</td>\n",
       "      <td>Mount Pleasant East</td>\n",
       "      <td>615000</td>\n",
       "      <td>20/09/2015</td>\n",
       "      <td>1925000</td>\n",
       "      <td>20/10/2015</td>\n",
       "      <td>Vacant Land</td>\n",
       "      <td>8</td>\n",
       "      <td>Other</td>\n",
       "      <td>0</td>\n",
       "      <td>0</td>\n",
       "      <td>43.709510</td>\n",
       "      <td>-79.386210</td>\n",
       "      <td>house</td>\n",
       "      <td>386 Eglinton Ave, Toronto</td>\n",
       "    </tr>\n",
       "    <tr>\n",
       "      <th>1</th>\n",
       "      <td>139</td>\n",
       "      <td>Christie</td>\n",
       "      <td>Toronto C02</td>\n",
       "      <td>36</td>\n",
       "      <td>Annex</td>\n",
       "      <td>499000</td>\n",
       "      <td>10/01/2017</td>\n",
       "      <td>988018</td>\n",
       "      <td>16/01/2017</td>\n",
       "      <td>Detached</td>\n",
       "      <td>1</td>\n",
       "      <td>Bungalow</td>\n",
       "      <td>2</td>\n",
       "      <td>1</td>\n",
       "      <td>43.667104</td>\n",
       "      <td>-79.419657</td>\n",
       "      <td>house</td>\n",
       "      <td>139 Christie St, Toronto</td>\n",
       "    </tr>\n",
       "    <tr>\n",
       "      <th>2</th>\n",
       "      <td>200</td>\n",
       "      <td>Clark</td>\n",
       "      <td>Markham</td>\n",
       "      <td>2</td>\n",
       "      <td>Thornhill</td>\n",
       "      <td>699000</td>\n",
       "      <td>06/06/2016</td>\n",
       "      <td>1375000</td>\n",
       "      <td>13/06/2016</td>\n",
       "      <td>Detached</td>\n",
       "      <td>1</td>\n",
       "      <td>Bungalow</td>\n",
       "      <td>1</td>\n",
       "      <td>1</td>\n",
       "      <td>43.811380</td>\n",
       "      <td>-79.404360</td>\n",
       "      <td>house</td>\n",
       "      <td>200 Clark Ave, Markham</td>\n",
       "    </tr>\n",
       "    <tr>\n",
       "      <th>3</th>\n",
       "      <td>19</td>\n",
       "      <td>Addison</td>\n",
       "      <td>Toronto C13</td>\n",
       "      <td>54</td>\n",
       "      <td>Banbury-Don Mills</td>\n",
       "      <td>999000</td>\n",
       "      <td>15/01/2017</td>\n",
       "      <td>1958000</td>\n",
       "      <td>21/01/2017</td>\n",
       "      <td>Detached</td>\n",
       "      <td>1</td>\n",
       "      <td>Bungalow</td>\n",
       "      <td>3</td>\n",
       "      <td>1</td>\n",
       "      <td>43.743602</td>\n",
       "      <td>-79.351473</td>\n",
       "      <td>house</td>\n",
       "      <td>19 Addison Cres, Toronto</td>\n",
       "    </tr>\n",
       "    <tr>\n",
       "      <th>4</th>\n",
       "      <td>183</td>\n",
       "      <td>Bestview</td>\n",
       "      <td>Toronto C15</td>\n",
       "      <td>42</td>\n",
       "      <td>Bayview Woods-Steeles</td>\n",
       "      <td>988800</td>\n",
       "      <td>31/01/2017</td>\n",
       "      <td>1929999</td>\n",
       "      <td>14/02/2017</td>\n",
       "      <td>Detached</td>\n",
       "      <td>1</td>\n",
       "      <td>2-Storey</td>\n",
       "      <td>4</td>\n",
       "      <td>4</td>\n",
       "      <td>43.805546</td>\n",
       "      <td>-79.383136</td>\n",
       "      <td>house</td>\n",
       "      <td>183 Bestview Dr, Toronto</td>\n",
       "    </tr>\n",
       "  </tbody>\n",
       "</table>\n",
       "</div>"
      ],
      "text/plain": [
       "  stno    stname         city  city_number                   area  askprice  \\\n",
       "0  386  Eglinton  Toronto C10           23    Mount Pleasant East    615000   \n",
       "1  139  Christie  Toronto C02           36                  Annex    499000   \n",
       "2  200     Clark      Markham            2              Thornhill    699000   \n",
       "3   19   Addison  Toronto C13           54      Banbury-Don Mills    999000   \n",
       "4  183  Bestview  Toronto C15           42  Bayview Woods-Steeles    988800   \n",
       "\n",
       "    inputdate  soldprice    solddate         type  type_number     style  \\\n",
       "0  20/09/2015    1925000  20/10/2015  Vacant Land            8     Other   \n",
       "1  10/01/2017     988018  16/01/2017     Detached            1  Bungalow   \n",
       "2  06/06/2016    1375000  13/06/2016     Detached            1  Bungalow   \n",
       "3  15/01/2017    1958000  21/01/2017     Detached            1  Bungalow   \n",
       "4  31/01/2017    1929999  14/02/2017     Detached            1  2-Storey   \n",
       "\n",
       "   bdrm  wshrm   latitude  longitude house_condo                    address  \n",
       "0     0      0  43.709510 -79.386210       house  386 Eglinton Ave, Toronto  \n",
       "1     2      1  43.667104 -79.419657       house   139 Christie St, Toronto  \n",
       "2     1      1  43.811380 -79.404360       house     200 Clark Ave, Markham  \n",
       "3     3      1  43.743602 -79.351473       house   19 Addison Cres, Toronto  \n",
       "4     4      4  43.805546 -79.383136       house   183 Bestview Dr, Toronto  "
      ]
     },
     "execution_count": 3,
     "metadata": {},
     "output_type": "execute_result"
    }
   ],
   "source": [
    "df.head(5)"
   ]
  },
  {
   "cell_type": "code",
   "execution_count": 4,
   "metadata": {},
   "outputs": [
    {
     "data": {
      "text/plain": [
       "56"
      ]
     },
     "execution_count": 4,
     "metadata": {},
     "output_type": "execute_result"
    }
   ],
   "source": [
    "len(df['city'].value_counts())"
   ]
  },
  {
   "cell_type": "code",
   "execution_count": 5,
   "metadata": {},
   "outputs": [
    {
     "data": {
      "text/plain": [
       "stno            object\n",
       "stname          object\n",
       "city            object\n",
       "city_number      int64\n",
       "area            object\n",
       "askprice         int64\n",
       "inputdate       object\n",
       "soldprice        int64\n",
       "solddate        object\n",
       "type            object\n",
       "type_number      int64\n",
       "style           object\n",
       "bdrm             int64\n",
       "wshrm            int64\n",
       "latitude       float64\n",
       "longitude      float64\n",
       "house_condo     object\n",
       "address         object\n",
       "dtype: object"
      ]
     },
     "execution_count": 5,
     "metadata": {},
     "output_type": "execute_result"
    }
   ],
   "source": [
    "df.dtypes"
   ]
  },
  {
   "cell_type": "code",
   "execution_count": 6,
   "metadata": {},
   "outputs": [],
   "source": [
    "df['inputdate'] = pd.to_datetime(df.inputdate)\n",
    "df['solddate'] = pd.to_datetime(df.solddate)"
   ]
  },
  {
   "cell_type": "code",
   "execution_count": 7,
   "metadata": {},
   "outputs": [
    {
     "data": {
      "text/plain": [
       "stno                   object\n",
       "stname                 object\n",
       "city                   object\n",
       "city_number             int64\n",
       "area                   object\n",
       "askprice                int64\n",
       "inputdate      datetime64[ns]\n",
       "soldprice               int64\n",
       "solddate       datetime64[ns]\n",
       "type                   object\n",
       "type_number             int64\n",
       "style                  object\n",
       "bdrm                    int64\n",
       "wshrm                   int64\n",
       "latitude              float64\n",
       "longitude             float64\n",
       "house_condo            object\n",
       "address                object\n",
       "dtype: object"
      ]
     },
     "execution_count": 7,
     "metadata": {},
     "output_type": "execute_result"
    }
   ],
   "source": [
    "df.dtypes"
   ]
  },
  {
   "cell_type": "code",
   "execution_count": 8,
   "metadata": {},
   "outputs": [
    {
     "data": {
      "text/html": [
       "<div>\n",
       "<style scoped>\n",
       "    .dataframe tbody tr th:only-of-type {\n",
       "        vertical-align: middle;\n",
       "    }\n",
       "\n",
       "    .dataframe tbody tr th {\n",
       "        vertical-align: top;\n",
       "    }\n",
       "\n",
       "    .dataframe thead th {\n",
       "        text-align: right;\n",
       "    }\n",
       "</style>\n",
       "<table border=\"1\" class=\"dataframe\">\n",
       "  <thead>\n",
       "    <tr style=\"text-align: right;\">\n",
       "      <th></th>\n",
       "      <th>city_number</th>\n",
       "      <th>askprice</th>\n",
       "      <th>soldprice</th>\n",
       "      <th>type_number</th>\n",
       "      <th>bdrm</th>\n",
       "      <th>wshrm</th>\n",
       "      <th>latitude</th>\n",
       "      <th>longitude</th>\n",
       "    </tr>\n",
       "  </thead>\n",
       "  <tbody>\n",
       "    <tr>\n",
       "      <th>count</th>\n",
       "      <td>195494.000000</td>\n",
       "      <td>1.954940e+05</td>\n",
       "      <td>1.954940e+05</td>\n",
       "      <td>195494.000000</td>\n",
       "      <td>195494.000000</td>\n",
       "      <td>195494.000000</td>\n",
       "      <td>195494.000000</td>\n",
       "      <td>195494.000000</td>\n",
       "    </tr>\n",
       "    <tr>\n",
       "      <th>mean</th>\n",
       "      <td>20.175872</td>\n",
       "      <td>7.384907e+05</td>\n",
       "      <td>7.651377e+05</td>\n",
       "      <td>2.885495</td>\n",
       "      <td>2.830987</td>\n",
       "      <td>2.653263</td>\n",
       "      <td>43.727477</td>\n",
       "      <td>-79.468912</td>\n",
       "    </tr>\n",
       "    <tr>\n",
       "      <th>std</th>\n",
       "      <td>15.498136</td>\n",
       "      <td>5.648553e+05</td>\n",
       "      <td>5.620668e+05</td>\n",
       "      <td>2.652589</td>\n",
       "      <td>1.096838</td>\n",
       "      <td>1.238405</td>\n",
       "      <td>0.136503</td>\n",
       "      <td>0.233172</td>\n",
       "    </tr>\n",
       "    <tr>\n",
       "      <th>min</th>\n",
       "      <td>0.000000</td>\n",
       "      <td>1.000000e+00</td>\n",
       "      <td>1.000000e+00</td>\n",
       "      <td>0.000000</td>\n",
       "      <td>0.000000</td>\n",
       "      <td>0.000000</td>\n",
       "      <td>43.288120</td>\n",
       "      <td>-80.127424</td>\n",
       "    </tr>\n",
       "    <tr>\n",
       "      <th>25%</th>\n",
       "      <td>6.000000</td>\n",
       "      <td>4.290000e+05</td>\n",
       "      <td>4.390000e+05</td>\n",
       "      <td>1.000000</td>\n",
       "      <td>2.000000</td>\n",
       "      <td>2.000000</td>\n",
       "      <td>43.642451</td>\n",
       "      <td>-79.650354</td>\n",
       "    </tr>\n",
       "    <tr>\n",
       "      <th>50%</th>\n",
       "      <td>15.000000</td>\n",
       "      <td>5.999000e+05</td>\n",
       "      <td>6.310000e+05</td>\n",
       "      <td>1.000000</td>\n",
       "      <td>3.000000</td>\n",
       "      <td>2.000000</td>\n",
       "      <td>43.721190</td>\n",
       "      <td>-79.446030</td>\n",
       "    </tr>\n",
       "    <tr>\n",
       "      <th>75%</th>\n",
       "      <td>34.000000</td>\n",
       "      <td>8.498000e+05</td>\n",
       "      <td>8.880000e+05</td>\n",
       "      <td>6.000000</td>\n",
       "      <td>4.000000</td>\n",
       "      <td>3.000000</td>\n",
       "      <td>43.822981</td>\n",
       "      <td>-79.345323</td>\n",
       "    </tr>\n",
       "    <tr>\n",
       "      <th>max</th>\n",
       "      <td>55.000000</td>\n",
       "      <td>2.680000e+07</td>\n",
       "      <td>2.200000e+07</td>\n",
       "      <td>35.000000</td>\n",
       "      <td>9.000000</td>\n",
       "      <td>35.000000</td>\n",
       "      <td>44.155510</td>\n",
       "      <td>-78.687984</td>\n",
       "    </tr>\n",
       "  </tbody>\n",
       "</table>\n",
       "</div>"
      ],
      "text/plain": [
       "         city_number      askprice     soldprice    type_number  \\\n",
       "count  195494.000000  1.954940e+05  1.954940e+05  195494.000000   \n",
       "mean       20.175872  7.384907e+05  7.651377e+05       2.885495   \n",
       "std        15.498136  5.648553e+05  5.620668e+05       2.652589   \n",
       "min         0.000000  1.000000e+00  1.000000e+00       0.000000   \n",
       "25%         6.000000  4.290000e+05  4.390000e+05       1.000000   \n",
       "50%        15.000000  5.999000e+05  6.310000e+05       1.000000   \n",
       "75%        34.000000  8.498000e+05  8.880000e+05       6.000000   \n",
       "max        55.000000  2.680000e+07  2.200000e+07      35.000000   \n",
       "\n",
       "                bdrm          wshrm       latitude      longitude  \n",
       "count  195494.000000  195494.000000  195494.000000  195494.000000  \n",
       "mean        2.830987       2.653263      43.727477     -79.468912  \n",
       "std         1.096838       1.238405       0.136503       0.233172  \n",
       "min         0.000000       0.000000      43.288120     -80.127424  \n",
       "25%         2.000000       2.000000      43.642451     -79.650354  \n",
       "50%         3.000000       2.000000      43.721190     -79.446030  \n",
       "75%         4.000000       3.000000      43.822981     -79.345323  \n",
       "max         9.000000      35.000000      44.155510     -78.687984  "
      ]
     },
     "execution_count": 8,
     "metadata": {},
     "output_type": "execute_result"
    }
   ],
   "source": [
    "df.describe()"
   ]
  },
  {
   "cell_type": "code",
   "execution_count": 9,
   "metadata": {},
   "outputs": [
    {
     "data": {
      "text/plain": [
       "29"
      ]
     },
     "execution_count": 9,
     "metadata": {},
     "output_type": "execute_result"
    }
   ],
   "source": [
    "len(df['style'].value_counts())"
   ]
  },
  {
   "cell_type": "code",
   "execution_count": 10,
   "metadata": {},
   "outputs": [
    {
     "data": {
      "text/plain": [
       "style\n",
       "1 1/2 Stor             6\n",
       "1 1/2 Storey        2424\n",
       "2 1/2 Stor             1\n",
       "2 1/2 Storey        1954\n",
       "2 Storey               1\n",
       "2-Store                2\n",
       "2-Storey           91249\n",
       "3-Store                1\n",
       "3-Storey           10757\n",
       "Apartme               11\n",
       "Apartment          52748\n",
       "Bachelor/Studio      218\n",
       "                   ...  \n",
       "Bungaloft            639\n",
       "Bungalow           16628\n",
       "Bungalow-Raised     3590\n",
       "Loft                1980\n",
       "Multi-Level         1910\n",
       "Other                522\n",
       "Sidesplit              1\n",
       "Sidesplit 3         1003\n",
       "Sidesplit 4         1586\n",
       "Sidesplit 5          273\n",
       "Sidesplt-All           1\n",
       "Stacked Townhse     2319\n",
       "Length: 29, dtype: int64"
      ]
     },
     "execution_count": 10,
     "metadata": {},
     "output_type": "execute_result"
    }
   ],
   "source": [
    "house_styles = df.groupby('style')\n",
    "house_styles.size()"
   ]
  },
  {
   "cell_type": "code",
   "execution_count": 51,
   "metadata": {},
   "outputs": [
    {
     "data": {
      "text/html": [
       "<div>\n",
       "<style scoped>\n",
       "    .dataframe tbody tr th:only-of-type {\n",
       "        vertical-align: middle;\n",
       "    }\n",
       "\n",
       "    .dataframe tbody tr th {\n",
       "        vertical-align: top;\n",
       "    }\n",
       "\n",
       "    .dataframe thead th {\n",
       "        text-align: right;\n",
       "    }\n",
       "</style>\n",
       "<table border=\"1\" class=\"dataframe\">\n",
       "  <thead>\n",
       "    <tr style=\"text-align: right;\">\n",
       "      <th></th>\n",
       "      <th>stno</th>\n",
       "      <th>stname</th>\n",
       "      <th>city</th>\n",
       "      <th>city_number</th>\n",
       "      <th>area</th>\n",
       "      <th>askprice</th>\n",
       "      <th>inputdate</th>\n",
       "      <th>soldprice</th>\n",
       "      <th>solddate</th>\n",
       "      <th>type</th>\n",
       "      <th>type_number</th>\n",
       "      <th>style</th>\n",
       "      <th>bdrm</th>\n",
       "      <th>wshrm</th>\n",
       "      <th>latitude</th>\n",
       "      <th>longitude</th>\n",
       "      <th>house_condo</th>\n",
       "      <th>address</th>\n",
       "    </tr>\n",
       "  </thead>\n",
       "  <tbody>\n",
       "    <tr>\n",
       "      <th>0</th>\n",
       "      <td>386</td>\n",
       "      <td>Eglinton</td>\n",
       "      <td>Toronto C10</td>\n",
       "      <td>23</td>\n",
       "      <td>Mount Pleasant East</td>\n",
       "      <td>615000</td>\n",
       "      <td>2015-09-20</td>\n",
       "      <td>1925000</td>\n",
       "      <td>2015-10-20</td>\n",
       "      <td>Vacant Land</td>\n",
       "      <td>8</td>\n",
       "      <td>Other</td>\n",
       "      <td>0</td>\n",
       "      <td>0</td>\n",
       "      <td>43.709510</td>\n",
       "      <td>-79.386210</td>\n",
       "      <td>house</td>\n",
       "      <td>386 Eglinton Ave, Toronto</td>\n",
       "    </tr>\n",
       "    <tr>\n",
       "      <th>1</th>\n",
       "      <td>139</td>\n",
       "      <td>Christie</td>\n",
       "      <td>Toronto C02</td>\n",
       "      <td>36</td>\n",
       "      <td>Annex</td>\n",
       "      <td>499000</td>\n",
       "      <td>2017-10-01</td>\n",
       "      <td>988018</td>\n",
       "      <td>2017-01-16</td>\n",
       "      <td>Detached</td>\n",
       "      <td>1</td>\n",
       "      <td>Bungalow</td>\n",
       "      <td>2</td>\n",
       "      <td>1</td>\n",
       "      <td>43.667104</td>\n",
       "      <td>-79.419657</td>\n",
       "      <td>house</td>\n",
       "      <td>139 Christie St, Toronto</td>\n",
       "    </tr>\n",
       "    <tr>\n",
       "      <th>2</th>\n",
       "      <td>200</td>\n",
       "      <td>Clark</td>\n",
       "      <td>Markham</td>\n",
       "      <td>2</td>\n",
       "      <td>Thornhill</td>\n",
       "      <td>699000</td>\n",
       "      <td>2016-06-06</td>\n",
       "      <td>1375000</td>\n",
       "      <td>2016-06-13</td>\n",
       "      <td>Detached</td>\n",
       "      <td>1</td>\n",
       "      <td>Bungalow</td>\n",
       "      <td>1</td>\n",
       "      <td>1</td>\n",
       "      <td>43.811380</td>\n",
       "      <td>-79.404360</td>\n",
       "      <td>house</td>\n",
       "      <td>200 Clark Ave, Markham</td>\n",
       "    </tr>\n",
       "    <tr>\n",
       "      <th>3</th>\n",
       "      <td>19</td>\n",
       "      <td>Addison</td>\n",
       "      <td>Toronto C13</td>\n",
       "      <td>54</td>\n",
       "      <td>Banbury-Don Mills</td>\n",
       "      <td>999000</td>\n",
       "      <td>2017-01-15</td>\n",
       "      <td>1958000</td>\n",
       "      <td>2017-01-21</td>\n",
       "      <td>Detached</td>\n",
       "      <td>1</td>\n",
       "      <td>Bungalow</td>\n",
       "      <td>3</td>\n",
       "      <td>1</td>\n",
       "      <td>43.743602</td>\n",
       "      <td>-79.351473</td>\n",
       "      <td>house</td>\n",
       "      <td>19 Addison Cres, Toronto</td>\n",
       "    </tr>\n",
       "    <tr>\n",
       "      <th>4</th>\n",
       "      <td>183</td>\n",
       "      <td>Bestview</td>\n",
       "      <td>Toronto C15</td>\n",
       "      <td>42</td>\n",
       "      <td>Bayview Woods-Steeles</td>\n",
       "      <td>988800</td>\n",
       "      <td>2017-01-31</td>\n",
       "      <td>1929999</td>\n",
       "      <td>2017-02-14</td>\n",
       "      <td>Detached</td>\n",
       "      <td>1</td>\n",
       "      <td>2-Storey</td>\n",
       "      <td>4</td>\n",
       "      <td>4</td>\n",
       "      <td>43.805546</td>\n",
       "      <td>-79.383136</td>\n",
       "      <td>house</td>\n",
       "      <td>183 Bestview Dr, Toronto</td>\n",
       "    </tr>\n",
       "  </tbody>\n",
       "</table>\n",
       "</div>"
      ],
      "text/plain": [
       "  stno    stname         city  city_number                   area  askprice  \\\n",
       "0  386  Eglinton  Toronto C10           23    Mount Pleasant East    615000   \n",
       "1  139  Christie  Toronto C02           36                  Annex    499000   \n",
       "2  200     Clark      Markham            2              Thornhill    699000   \n",
       "3   19   Addison  Toronto C13           54      Banbury-Don Mills    999000   \n",
       "4  183  Bestview  Toronto C15           42  Bayview Woods-Steeles    988800   \n",
       "\n",
       "   inputdate  soldprice   solddate         type  type_number     style  bdrm  \\\n",
       "0 2015-09-20    1925000 2015-10-20  Vacant Land            8     Other     0   \n",
       "1 2017-10-01     988018 2017-01-16     Detached            1  Bungalow     2   \n",
       "2 2016-06-06    1375000 2016-06-13     Detached            1  Bungalow     1   \n",
       "3 2017-01-15    1958000 2017-01-21     Detached            1  Bungalow     3   \n",
       "4 2017-01-31    1929999 2017-02-14     Detached            1  2-Storey     4   \n",
       "\n",
       "   wshrm   latitude  longitude house_condo                    address  \n",
       "0      0  43.709510 -79.386210       house  386 Eglinton Ave, Toronto  \n",
       "1      1  43.667104 -79.419657       house   139 Christie St, Toronto  \n",
       "2      1  43.811380 -79.404360       house     200 Clark Ave, Markham  \n",
       "3      1  43.743602 -79.351473       house   19 Addison Cres, Toronto  \n",
       "4      4  43.805546 -79.383136       house   183 Bestview Dr, Toronto  "
      ]
     },
     "execution_count": 51,
     "metadata": {},
     "output_type": "execute_result"
    }
   ],
   "source": [
    "df.head()"
   ]
  },
  {
   "cell_type": "code",
   "execution_count": 11,
   "metadata": {},
   "outputs": [
    {
     "data": {
      "text/plain": [
       "2"
      ]
     },
     "execution_count": 11,
     "metadata": {},
     "output_type": "execute_result"
    }
   ],
   "source": [
    "len(df['house_condo'].value_counts())"
   ]
  },
  {
   "cell_type": "code",
   "execution_count": 17,
   "metadata": {},
   "outputs": [
    {
     "data": {
      "text/plain": [
       "house_condo\n",
       "condo     72341\n",
       "house    123153\n",
       "dtype: int64"
      ]
     },
     "execution_count": 17,
     "metadata": {},
     "output_type": "execute_result"
    }
   ],
   "source": [
    "house_condo = df.groupby('house_condo')\n",
    "house_condo.size()"
   ]
  },
  {
   "cell_type": "code",
   "execution_count": 20,
   "metadata": {},
   "outputs": [
    {
     "data": {
      "text/plain": [
       "(195494, 18)"
      ]
     },
     "execution_count": 20,
     "metadata": {},
     "output_type": "execute_result"
    }
   ],
   "source": [
    "df.shape"
   ]
  },
  {
   "cell_type": "code",
   "execution_count": 41,
   "metadata": {},
   "outputs": [],
   "source": [
    "threebedrooms = []\n",
    "for bedrooms in df.bdrm:\n",
    "    if bedrooms >= 3:\n",
    "        threebedrooms.append(True)\n",
    "    else:\n",
    "        threebedrooms.append(False)  "
   ]
  },
  {
   "cell_type": "code",
   "execution_count": 42,
   "metadata": {},
   "outputs": [
    {
     "data": {
      "text/plain": [
       "[False, False, False, True, True, True, False, True, False, True]"
      ]
     },
     "execution_count": 42,
     "metadata": {},
     "output_type": "execute_result"
    }
   ],
   "source": [
    "threebedrooms[0:10]"
   ]
  },
  {
   "cell_type": "code",
   "execution_count": 45,
   "metadata": {},
   "outputs": [],
   "source": [
    "condo_list = []\n",
    "for housecondo in df.house_condo:\n",
    "    if housecondo=='condo':\n",
    "        condo_list.append(True)\n",
    "    else:\n",
    "        condo_list.append(False)"
   ]
  },
  {
   "cell_type": "code",
   "execution_count": 46,
   "metadata": {},
   "outputs": [
    {
     "data": {
      "text/plain": [
       "[False, False, False, False, False, False, False, False, False, False]"
      ]
     },
     "execution_count": 46,
     "metadata": {},
     "output_type": "execute_result"
    }
   ],
   "source": [
    "condo_list[0:10]"
   ]
  },
  {
   "cell_type": "code",
   "execution_count": 47,
   "metadata": {},
   "outputs": [
    {
     "data": {
      "text/plain": [
       "195494"
      ]
     },
     "execution_count": 47,
     "metadata": {},
     "output_type": "execute_result"
    }
   ],
   "source": [
    "len(condo_list)"
   ]
  },
  {
   "cell_type": "code",
   "execution_count": 53,
   "metadata": {},
   "outputs": [],
   "source": [
    "condolist = df.house_condo=='condo'"
   ]
  },
  {
   "cell_type": "code",
   "execution_count": 55,
   "metadata": {},
   "outputs": [
    {
     "data": {
      "text/plain": [
       "0    False\n",
       "1    False\n",
       "2    False\n",
       "3    False\n",
       "4    False\n",
       "Name: house_condo, dtype: bool"
      ]
     },
     "execution_count": 55,
     "metadata": {},
     "output_type": "execute_result"
    }
   ],
   "source": [
    "condolist.head()"
   ]
  },
  {
   "cell_type": "code",
   "execution_count": 57,
   "metadata": {},
   "outputs": [],
   "source": [
    "condo = df[condolist]"
   ]
  },
  {
   "cell_type": "code",
   "execution_count": 60,
   "metadata": {},
   "outputs": [
    {
     "data": {
      "text/plain": [
       "(72341, 18)"
      ]
     },
     "execution_count": 60,
     "metadata": {},
     "output_type": "execute_result"
    }
   ],
   "source": [
    "condo.shape"
   ]
  },
  {
   "cell_type": "code",
   "execution_count": 64,
   "metadata": {},
   "outputs": [
    {
     "data": {
      "text/plain": [
       "<matplotlib.axes._subplots.AxesSubplot at 0x129088e80>"
      ]
     },
     "execution_count": 64,
     "metadata": {},
     "output_type": "execute_result"
    },
    {
     "data": {
      "image/png": "[encoded data removed]",
      "text/plain": [
       "<Figure size 720x504 with 2 Axes>"
      ]
     },
     "metadata": {},
     "output_type": "display_data"
    }
   ],
   "source": [
    "condo.plot(kind=\"scatter\", x=\"longitude\", y=\"latitude\", alpha=0.4, figsize=(10,7), c=\"soldprice\", cmap=plt.get_cmap(\"jet\"), colorbar=True,\n",
    "    sharex=False)"
   ]
  },
  {
   "cell_type": "code",
   "execution_count": 65,
   "metadata": {},
   "outputs": [
    {
     "data": {
      "text/html": [
       "<div>\n",
       "<style scoped>\n",
       "    .dataframe tbody tr th:only-of-type {\n",
       "        vertical-align: middle;\n",
       "    }\n",
       "\n",
       "    .dataframe tbody tr th {\n",
       "        vertical-align: top;\n",
       "    }\n",
       "\n",
       "    .dataframe thead th {\n",
       "        text-align: right;\n",
       "    }\n",
       "</style>\n",
       "<table border=\"1\" class=\"dataframe\">\n",
       "  <thead>\n",
       "    <tr style=\"text-align: right;\">\n",
       "      <th></th>\n",
       "      <th>freq</th>\n",
       "      <th>soldprice</th>\n",
       "    </tr>\n",
       "  </thead>\n",
       "  <tbody>\n",
       "    <tr>\n",
       "      <th>count</th>\n",
       "      <td>56.000000</td>\n",
       "      <td>5.600000e+01</td>\n",
       "    </tr>\n",
       "    <tr>\n",
       "      <th>mean</th>\n",
       "      <td>1291.803571</td>\n",
       "      <td>4.431891e+05</td>\n",
       "    </tr>\n",
       "    <tr>\n",
       "      <th>std</th>\n",
       "      <td>2133.973233</td>\n",
       "      <td>1.558168e+05</td>\n",
       "    </tr>\n",
       "    <tr>\n",
       "      <th>min</th>\n",
       "      <td>1.000000</td>\n",
       "      <td>2.405039e+05</td>\n",
       "    </tr>\n",
       "    <tr>\n",
       "      <th>25%</th>\n",
       "      <td>326.750000</td>\n",
       "      <td>3.380688e+05</td>\n",
       "    </tr>\n",
       "    <tr>\n",
       "      <th>50%</th>\n",
       "      <td>592.500000</td>\n",
       "      <td>4.116048e+05</td>\n",
       "    </tr>\n",
       "    <tr>\n",
       "      <th>75%</th>\n",
       "      <td>1246.250000</td>\n",
       "      <td>4.791379e+05</td>\n",
       "    </tr>\n",
       "    <tr>\n",
       "      <th>max</th>\n",
       "      <td>11836.000000</td>\n",
       "      <td>1.019435e+06</td>\n",
       "    </tr>\n",
       "  </tbody>\n",
       "</table>\n",
       "</div>"
      ],
      "text/plain": [
       "               freq     soldprice\n",
       "count     56.000000  5.600000e+01\n",
       "mean    1291.803571  4.431891e+05\n",
       "std     2133.973233  1.558168e+05\n",
       "min        1.000000  2.405039e+05\n",
       "25%      326.750000  3.380688e+05\n",
       "50%      592.500000  4.116048e+05\n",
       "75%     1246.250000  4.791379e+05\n",
       "max    11836.000000  1.019435e+06"
      ]
     },
     "execution_count": 65,
     "metadata": {},
     "output_type": "execute_result"
    }
   ],
   "source": [
    "freq = condo.groupby('city').count()['address']\n",
    "mean = condo.groupby('city').mean()['soldprice']\n",
    "cluster = pd.concat([freq, mean], axis=1)\n",
    "cluster['neighborhood'] = cluster.index\n",
    "cluster.columns = ['freq', 'soldprice', 'city']\n",
    "\n",
    "cluster.describe()"
   ]
  },
  {
   "cell_type": "code",
   "execution_count": 66,
   "metadata": {},
   "outputs": [
    {
     "data": {
      "text/plain": [
       "Index(['Ajax', 'Brampton', 'Clarington', 'East Gwillimbury', 'Halton Hills',\n",
       "       'Milton', 'Mississauga', 'Oshawa', 'Pickering', 'Toronto C06',\n",
       "       'Toronto C11', 'Toronto C13', 'Toronto E03', 'Toronto E04',\n",
       "       'Toronto E05', 'Toronto E07', 'Toronto E08', 'Toronto E09',\n",
       "       'Toronto E10', 'Toronto E11', 'Toronto W03', 'Toronto W04',\n",
       "       'Toronto W05', 'Toronto W08', 'Toronto W09', 'Toronto W10', 'Uxbridge',\n",
       "       'Whitby'],\n",
       "      dtype='object', name='city')"
      ]
     },
     "execution_count": 66,
     "metadata": {},
     "output_type": "execute_result"
    }
   ],
   "source": [
    "cluster1 = cluster[cluster.soldprice < 411600]\n",
    "cluster1.index"
   ]
  },
  {
   "cell_type": "code",
   "execution_count": 67,
   "metadata": {},
   "outputs": [
    {
     "data": {
      "text/plain": [
       "Index(['Aurora', 'Caledon', 'King', 'Newmarket', 'Toronto C03', 'Toronto C04',\n",
       "       'Toronto C09', 'Toronto C12', 'Toronto E01', 'Toronto E02',\n",
       "       'Toronto E06', 'Toronto W07', 'Whitchurch-Stouffville'],\n",
       "      dtype='object', name='city')"
      ]
     },
     "execution_count": 67,
     "metadata": {},
     "output_type": "execute_result"
    }
   ],
   "source": [
    "cluster_temp = cluster[cluster.soldprice >= 411600]\n",
    "cluster2 = cluster_temp[cluster_temp.freq <592]\n",
    "cluster2.index"
   ]
  },
  {
   "cell_type": "code",
   "execution_count": 68,
   "metadata": {},
   "outputs": [
    {
     "data": {
      "text/plain": [
       "Index(['Burlington', 'Markham', 'Oakville', 'Richmond Hill', 'Toronto C01',\n",
       "       'Toronto C02', 'Toronto C07', 'Toronto C08', 'Toronto C10',\n",
       "       'Toronto C14', 'Toronto C15', 'Toronto W01', 'Toronto W02',\n",
       "       'Toronto W06', 'Vaughan'],\n",
       "      dtype='object', name='city')"
      ]
     },
     "execution_count": 68,
     "metadata": {},
     "output_type": "execute_result"
    }
   ],
   "source": [
    "cluster3 = cluster_temp[cluster_temp.freq >=592]\n",
    "cluster3.index"
   ]
  },
  {
   "cell_type": "code",
   "execution_count": 69,
   "metadata": {},
   "outputs": [
    {
     "data": {
      "text/plain": [
       "<matplotlib.axes._subplots.AxesSubplot at 0x12c411dd8>"
      ]
     },
     "execution_count": 69,
     "metadata": {},
     "output_type": "execute_result"
    },
    {
     "data": {
      "image/png": "[encoded data removed]",
      "text/plain": [
       "<Figure size 432x288 with 1 Axes>"
      ]
     },
     "metadata": {},
     "output_type": "display_data"
    }
   ],
   "source": [
    "condo['city'].value_counts()[:20].plot(kind='barh')"
   ]
  },
  {
   "cell_type": "code",
   "execution_count": 70,
   "metadata": {},
   "outputs": [
    {
     "data": {
      "text/plain": [
       "(Timestamp('2010-09-12 00:00:00'), Timestamp('2017-12-06 00:00:00'))"
      ]
     },
     "execution_count": 70,
     "metadata": {},
     "output_type": "execute_result"
    }
   ],
   "source": [
    "condo.inputdate.min(), condo.inputdate.max()"
   ]
  },
  {
   "cell_type": "code",
   "execution_count": 76,
   "metadata": {},
   "outputs": [
    {
     "data": {
      "text/plain": [
       "17      Friday\n",
       "25      Monday\n",
       "30    Thursday\n",
       "68    Saturday\n",
       "73    Saturday\n",
       "Name: inputdate, dtype: object"
      ]
     },
     "execution_count": 76,
     "metadata": {},
     "output_type": "execute_result"
    }
   ],
   "source": [
    "condo.inputdate.dt.weekday_name[:5]"
   ]
  },
  {
   "cell_type": "code",
   "execution_count": 106,
   "metadata": {},
   "outputs": [],
   "source": [
    "ts = pd.to_datetime('1/1/2017')"
   ]
  },
  {
   "cell_type": "code",
   "execution_count": 107,
   "metadata": {},
   "outputs": [],
   "source": [
    "recent_sales = []\n",
    "for inputdate in condo.inputdate:\n",
    "    if inputdate >= ts:\n",
    "        recent_sales.append(True)\n",
    "    else:\n",
    "        recent_sales.append(False) "
   ]
  },
  {
   "cell_type": "code",
   "execution_count": 108,
   "metadata": {},
   "outputs": [
    {
     "data": {
      "text/plain": [
       "[True, False, True, True, False, False, False, False, False, False]"
      ]
     },
     "execution_count": 108,
     "metadata": {},
     "output_type": "execute_result"
    }
   ],
   "source": [
    "recent_sales[10000:10010]"
   ]
  },
  {
   "cell_type": "code",
   "execution_count": 109,
   "metadata": {},
   "outputs": [],
   "source": [
    "recent_condos = condo.inputdate>=ts\n",
    "less_1m = condo.soldprice<1000000"
   ]
  },
  {
   "cell_type": "code",
   "execution_count": 110,
   "metadata": {},
   "outputs": [
    {
     "data": {
      "text/plain": [
       "17    True\n",
       "25    True\n",
       "30    True\n",
       "68    True\n",
       "73    True\n",
       "Name: inputdate, dtype: bool"
      ]
     },
     "execution_count": 110,
     "metadata": {},
     "output_type": "execute_result"
    }
   ],
   "source": [
    "recent_condos.head()"
   ]
  },
  {
   "cell_type": "code",
   "execution_count": 111,
   "metadata": {},
   "outputs": [
    {
     "data": {
      "text/plain": [
       "17    True\n",
       "25    True\n",
       "30    True\n",
       "68    True\n",
       "73    True\n",
       "Name: soldprice, dtype: bool"
      ]
     },
     "execution_count": 111,
     "metadata": {},
     "output_type": "execute_result"
    }
   ],
   "source": [
    "less_1m.head()"
   ]
  },
  {
   "cell_type": "code",
   "execution_count": 112,
   "metadata": {},
   "outputs": [
    {
     "name": "stderr",
     "output_type": "stream",
     "text": [
      "/Users/Minh/anaconda/lib/python3.6/site-packages/ipykernel_launcher.py:1: UserWarning: Boolean Series key will be reindexed to match DataFrame index.\n",
      "  \"\"\"Entry point for launching an IPython kernel.\n"
     ]
    }
   ],
   "source": [
    "rcndo =  condo[recent_condos][less_1m]"
   ]
  },
  {
   "cell_type": "code",
   "execution_count": 113,
   "metadata": {},
   "outputs": [
    {
     "data": {
      "text/plain": [
       "(17766, 18)"
      ]
     },
     "execution_count": 113,
     "metadata": {},
     "output_type": "execute_result"
    }
   ],
   "source": [
    "rcndo.shape"
   ]
  },
  {
   "cell_type": "code",
   "execution_count": 114,
   "metadata": {},
   "outputs": [
    {
     "data": {
      "text/html": [
       "<div>\n",
       "<style scoped>\n",
       "    .dataframe tbody tr th:only-of-type {\n",
       "        vertical-align: middle;\n",
       "    }\n",
       "\n",
       "    .dataframe tbody tr th {\n",
       "        vertical-align: top;\n",
       "    }\n",
       "\n",
       "    .dataframe thead th {\n",
       "        text-align: right;\n",
       "    }\n",
       "</style>\n",
       "<table border=\"1\" class=\"dataframe\">\n",
       "  <thead>\n",
       "    <tr style=\"text-align: right;\">\n",
       "      <th></th>\n",
       "      <th>stno</th>\n",
       "      <th>stname</th>\n",
       "      <th>city</th>\n",
       "      <th>city_number</th>\n",
       "      <th>area</th>\n",
       "      <th>askprice</th>\n",
       "      <th>inputdate</th>\n",
       "      <th>soldprice</th>\n",
       "      <th>solddate</th>\n",
       "      <th>type</th>\n",
       "      <th>type_number</th>\n",
       "      <th>style</th>\n",
       "      <th>bdrm</th>\n",
       "      <th>wshrm</th>\n",
       "      <th>latitude</th>\n",
       "      <th>longitude</th>\n",
       "      <th>house_condo</th>\n",
       "      <th>address</th>\n",
       "    </tr>\n",
       "  </thead>\n",
       "  <tbody>\n",
       "    <tr>\n",
       "      <th>17</th>\n",
       "      <td>28</td>\n",
       "      <td>Rosebank</td>\n",
       "      <td>Toronto E11</td>\n",
       "      <td>41</td>\n",
       "      <td>Malvern</td>\n",
       "      <td>360000</td>\n",
       "      <td>2017-03-03</td>\n",
       "      <td>651000</td>\n",
       "      <td>2017-12-03</td>\n",
       "      <td>Condo Townhouse</td>\n",
       "      <td>5</td>\n",
       "      <td>3-Storey</td>\n",
       "      <td>3</td>\n",
       "      <td>3</td>\n",
       "      <td>43.792121</td>\n",
       "      <td>-79.235722</td>\n",
       "      <td>condo</td>\n",
       "      <td>28 Rosebank Dr, Toronto</td>\n",
       "    </tr>\n",
       "    <tr>\n",
       "      <th>25</th>\n",
       "      <td>68</td>\n",
       "      <td>Grangeway</td>\n",
       "      <td>Toronto E09</td>\n",
       "      <td>10</td>\n",
       "      <td>Woburn</td>\n",
       "      <td>359000</td>\n",
       "      <td>2017-12-04</td>\n",
       "      <td>638000</td>\n",
       "      <td>2017-04-20</td>\n",
       "      <td>Condo Apt</td>\n",
       "      <td>6</td>\n",
       "      <td>Apartment</td>\n",
       "      <td>2</td>\n",
       "      <td>2</td>\n",
       "      <td>43.773592</td>\n",
       "      <td>-79.249762</td>\n",
       "      <td>condo</td>\n",
       "      <td>68 Grangeway Ave, Toronto</td>\n",
       "    </tr>\n",
       "    <tr>\n",
       "      <th>30</th>\n",
       "      <td>25</td>\n",
       "      <td>Sunrise</td>\n",
       "      <td>Toronto C13</td>\n",
       "      <td>54</td>\n",
       "      <td>Victoria Village</td>\n",
       "      <td>199000</td>\n",
       "      <td>2017-01-05</td>\n",
       "      <td>350000</td>\n",
       "      <td>2017-08-05</td>\n",
       "      <td>Condo Apt</td>\n",
       "      <td>6</td>\n",
       "      <td>Apartment</td>\n",
       "      <td>2</td>\n",
       "      <td>2</td>\n",
       "      <td>43.718934</td>\n",
       "      <td>-79.301738</td>\n",
       "      <td>condo</td>\n",
       "      <td>25 Sunrise Ave, Toronto</td>\n",
       "    </tr>\n",
       "    <tr>\n",
       "      <th>68</th>\n",
       "      <td>2088</td>\n",
       "      <td>Lawrence</td>\n",
       "      <td>Toronto W04</td>\n",
       "      <td>16</td>\n",
       "      <td>Weston</td>\n",
       "      <td>249000</td>\n",
       "      <td>2017-08-05</td>\n",
       "      <td>416500</td>\n",
       "      <td>2017-05-14</td>\n",
       "      <td>Condo Apt</td>\n",
       "      <td>6</td>\n",
       "      <td>Apartment</td>\n",
       "      <td>3</td>\n",
       "      <td>2</td>\n",
       "      <td>43.699760</td>\n",
       "      <td>-79.518492</td>\n",
       "      <td>condo</td>\n",
       "      <td>2088 Lawrence Ave, Toronto</td>\n",
       "    </tr>\n",
       "    <tr>\n",
       "      <th>73</th>\n",
       "      <td>2088</td>\n",
       "      <td>Lawrence</td>\n",
       "      <td>Toronto W04</td>\n",
       "      <td>16</td>\n",
       "      <td>Weston</td>\n",
       "      <td>249000</td>\n",
       "      <td>2017-08-05</td>\n",
       "      <td>415500</td>\n",
       "      <td>2017-05-14</td>\n",
       "      <td>Condo Apt</td>\n",
       "      <td>6</td>\n",
       "      <td>Apartment</td>\n",
       "      <td>3</td>\n",
       "      <td>2</td>\n",
       "      <td>43.699760</td>\n",
       "      <td>-79.518492</td>\n",
       "      <td>condo</td>\n",
       "      <td>2088 Lawrence Ave, Toronto</td>\n",
       "    </tr>\n",
       "  </tbody>\n",
       "</table>\n",
       "</div>"
      ],
      "text/plain": [
       "    stno     stname         city  city_number              area  askprice  \\\n",
       "17    28   Rosebank  Toronto E11           41           Malvern    360000   \n",
       "25    68  Grangeway  Toronto E09           10            Woburn    359000   \n",
       "30    25    Sunrise  Toronto C13           54  Victoria Village    199000   \n",
       "68  2088   Lawrence  Toronto W04           16            Weston    249000   \n",
       "73  2088   Lawrence  Toronto W04           16            Weston    249000   \n",
       "\n",
       "    inputdate  soldprice   solddate             type  type_number      style  \\\n",
       "17 2017-03-03     651000 2017-12-03  Condo Townhouse            5   3-Storey   \n",
       "25 2017-12-04     638000 2017-04-20        Condo Apt            6  Apartment   \n",
       "30 2017-01-05     350000 2017-08-05        Condo Apt            6  Apartment   \n",
       "68 2017-08-05     416500 2017-05-14        Condo Apt            6  Apartment   \n",
       "73 2017-08-05     415500 2017-05-14        Condo Apt            6  Apartment   \n",
       "\n",
       "    bdrm  wshrm   latitude  longitude house_condo                     address  \n",
       "17     3      3  43.792121 -79.235722       condo     28 Rosebank Dr, Toronto  \n",
       "25     2      2  43.773592 -79.249762       condo   68 Grangeway Ave, Toronto  \n",
       "30     2      2  43.718934 -79.301738       condo     25 Sunrise Ave, Toronto  \n",
       "68     3      2  43.699760 -79.518492       condo  2088 Lawrence Ave, Toronto  \n",
       "73     3      2  43.699760 -79.518492       condo  2088 Lawrence Ave, Toronto  "
      ]
     },
     "execution_count": 114,
     "metadata": {},
     "output_type": "execute_result"
    }
   ],
   "source": [
    "rcndo.head()"
   ]
  },
  {
   "cell_type": "code",
   "execution_count": 115,
   "metadata": {},
   "outputs": [
    {
     "data": {
      "text/plain": [
       "<matplotlib.axes._subplots.AxesSubplot at 0x124e7c240>"
      ]
     },
     "execution_count": 115,
     "metadata": {},
     "output_type": "execute_result"
    },
    {
     "data": {
      "image/png": "[encoded data removed]",
      "text/plain": [
       "<Figure size 720x504 with 2 Axes>"
      ]
     },
     "metadata": {},
     "output_type": "display_data"
    }
   ],
   "source": [
    "rcndo.plot(kind=\"scatter\", x=\"longitude\", y=\"latitude\", alpha=0.4, figsize=(10,7), c=\"soldprice\", cmap=plt.get_cmap(\"jet\"), colorbar=True,\n",
    "    sharex=False)"
   ]
  },
  {
   "cell_type": "code",
   "execution_count": 116,
   "metadata": {},
   "outputs": [],
   "source": [
    "cse = df.address=='101 Charles St E, Toronto'"
   ]
  },
  {
   "cell_type": "code",
   "execution_count": 117,
   "metadata": {},
   "outputs": [],
   "source": [
    "charles_st_e = df[cse]"
   ]
  },
  {
   "cell_type": "code",
   "execution_count": 118,
   "metadata": {},
   "outputs": [
    {
     "data": {
      "text/plain": [
       "(0, 18)"
      ]
     },
     "execution_count": 118,
     "metadata": {},
     "output_type": "execute_result"
    }
   ],
   "source": [
    "charles_st_e.shape"
   ]
  },
  {
   "cell_type": "code",
   "execution_count": null,
   "metadata": {},
   "outputs": [],
   "source": []
  }
 ],
 "metadata": {
  "kernelspec": {
   "display_name": "Python 3",
   "language": "python",
   "name": "python3"
  },
  "language_info": {
   "codemirror_mode": {
    "name": "ipython",
    "version": 3
   },
   "file_extension": ".py",
   "mimetype": "text/x-python",
   "name": "python",
   "nbconvert_exporter": "python",
   "pygments_lexer": "ipython3",
   "version": "3.6.5"
  }
 },
 "nbformat": 4,
 "nbformat_minor": 2
}
